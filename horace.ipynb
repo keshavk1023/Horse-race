{
 "cells": [
  {
   "cell_type": "code",
   "execution_count": 55,
   "metadata": {},
   "outputs": [],
   "source": [
    "import pandas as pd\n",
    "from sklearn.model_selection import train_test_split\n",
    "from sklearn.preprocessing import StandardScaler, LabelEncoder\n",
    "import os\n",
    "import warnings\n",
    "warnings.filterwarnings(\"ignore\")"
   ]
  },
  {
   "cell_type": "code",
   "execution_count": 63,
   "metadata": {},
   "outputs": [],
   "source": [
    "os.chdir(\"C:\\\\Users\\\\jeetg\\\\code\\\\horse race prediction\\\\data\")"
   ]
  },
  {
   "cell_type": "code",
   "execution_count": 60,
   "metadata": {},
   "outputs": [],
   "source": [
    "race_files=[]\n",
    "horse_files=[]\n",
    "for i in range(1990,2021):\n",
    "    race_files.append(f'races_{i}.csv')\n",
    "    horse_files.append(f'horses_{i}.csv')"
   ]
  },
  {
   "cell_type": "code",
   "execution_count": 65,
   "metadata": {},
   "outputs": [],
   "source": [
    "race_df = pd.concat((pd.read_csv(file) for file in race_files), ignore_index=True)\n",
    "race_df.to_csv('race.csv', index=False)\n",
    "\n",
    "# Concatenate horse files\n",
    "horse_df = pd.concat((pd.read_csv(file) for file in horse_files), ignore_index=True)\n",
    "horse_df.to_csv('horse.csv', index=False)\n",
    "\n",
    "# Concatenate forward files\n",
    "forward_df=pd.read_csv('forward.csv')\n"
   ]
  },
  {
   "cell_type": "code",
   "execution_count": null,
   "metadata": {},
   "outputs": [],
   "source": []
  }
 ],
 "metadata": {
  "language_info": {
   "name": "python"
  }
 },
 "nbformat": 4,
 "nbformat_minor": 2
}
